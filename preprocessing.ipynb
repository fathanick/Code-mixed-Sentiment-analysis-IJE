{
 "cells": [
  {
   "cell_type": "code",
   "execution_count": 1,
   "id": "d3065c51",
   "metadata": {},
   "outputs": [],
   "source": [
    "import nltk\n",
    "import re\n",
    "import pandas as pd"
   ]
  },
  {
   "cell_type": "code",
   "execution_count": 2,
   "id": "0c89a300",
   "metadata": {},
   "outputs": [],
   "source": [
    "def clean_data(text):\n",
    "    # remove html tags\n",
    "    html_tag = re.compile(r'<.*?>')\n",
    "    # remove URL\n",
    "    http_link = re.compile(r'https://\\S+')\n",
    "    www_link = re.compile(r'www\\.\\S+')\n",
    "    # remove punctuation\n",
    "    punct = re.compile(r\"[^\\w\\s]\")\n",
    "    # remove numbers\n",
    "    number = re.compile(r\"\\d\")\n",
    "    # remove multiple space\n",
    "    space = re.compile(r\"\\s\\s+\")\n",
    "    \n",
    "    text = re.sub(html_tag, r\" \", text)\n",
    "    text = re.sub(http_link, r\" \", text)\n",
    "    text = re.sub(www_link, r\" \", text)\n",
    "    text = re.sub(punct, r\" \", text)\n",
    "    text = re.sub(number, r\" \", text)\n",
    "    text = re.sub(space, r\" \", text)\n",
    "    return text"
   ]
  },
  {
   "cell_type": "code",
   "execution_count": 3,
   "id": "f6e54900",
   "metadata": {},
   "outputs": [],
   "source": [
    "df = pd.read_excel('../dataset/ije_sa/raw_ije_sa.xlsx')"
   ]
  },
  {
   "cell_type": "code",
   "execution_count": 4,
   "id": "1eff5e53",
   "metadata": {},
   "outputs": [
    {
     "data": {
      "text/html": [
       "<div>\n",
       "<style scoped>\n",
       "    .dataframe tbody tr th:only-of-type {\n",
       "        vertical-align: middle;\n",
       "    }\n",
       "\n",
       "    .dataframe tbody tr th {\n",
       "        vertical-align: top;\n",
       "    }\n",
       "\n",
       "    .dataframe thead th {\n",
       "        text-align: right;\n",
       "    }\n",
       "</style>\n",
       "<table border=\"1\" class=\"dataframe\">\n",
       "  <thead>\n",
       "    <tr style=\"text-align: right;\">\n",
       "      <th></th>\n",
       "      <th>tweet</th>\n",
       "      <th>label</th>\n",
       "    </tr>\n",
       "  </thead>\n",
       "  <tbody>\n",
       "    <tr>\n",
       "      <th>0</th>\n",
       "      <td>foto jaman disik kamerane elek ddine meninggal...</td>\n",
       "      <td>Negative</td>\n",
       "    </tr>\n",
       "    <tr>\n",
       "      <th>1</th>\n",
       "      <td>happy wedding brother, sory kamerane elek (wit...</td>\n",
       "      <td>Negative</td>\n",
       "    </tr>\n",
       "    <tr>\n",
       "      <th>2</th>\n",
       "      <td>Maaf gak saingan sek, ig storymu kamerane elek</td>\n",
       "      <td>Negative</td>\n",
       "    </tr>\n",
       "    <tr>\n",
       "      <th>3</th>\n",
       "      <td>Gasempet foto, soale kamerane elek koyo kowe</td>\n",
       "      <td>Negative</td>\n",
       "    </tr>\n",
       "    <tr>\n",
       "      <th>4</th>\n",
       "      <td>Endak mas ikuw saking kamerane elek. Lek hujan...</td>\n",
       "      <td>Negative</td>\n",
       "    </tr>\n",
       "    <tr>\n",
       "      <th>...</th>\n",
       "      <td>...</td>\n",
       "      <td>...</td>\n",
       "    </tr>\n",
       "    <tr>\n",
       "      <th>1924</th>\n",
       "      <td>Padahal.. apa yg tertulis sdh sesuai asas good...</td>\n",
       "      <td>Positive</td>\n",
       "    </tr>\n",
       "    <tr>\n",
       "      <th>1925</th>\n",
       "      <td>Pemimpin yg jujur mengembalikan uang yg bukan ...</td>\n",
       "      <td>Positive</td>\n",
       "    </tr>\n",
       "    <tr>\n",
       "      <th>1926</th>\n",
       "      <td>Pelanggan siji wes muni ae lambene, ora jowo s...</td>\n",
       "      <td>Negative</td>\n",
       "    </tr>\n",
       "    <tr>\n",
       "      <th>1927</th>\n",
       "      <td>Rumah sakit opooo iki. Wes dokter lanange gak ...</td>\n",
       "      <td>Negative</td>\n",
       "    </tr>\n",
       "    <tr>\n",
       "      <th>1928</th>\n",
       "      <td>Berani jadi gubernur, siap jadi gubernur... ka...</td>\n",
       "      <td>Positive</td>\n",
       "    </tr>\n",
       "  </tbody>\n",
       "</table>\n",
       "<p>1929 rows × 2 columns</p>\n",
       "</div>"
      ],
      "text/plain": [
       "                                                  tweet     label\n",
       "0     foto jaman disik kamerane elek ddine meninggal...  Negative\n",
       "1     happy wedding brother, sory kamerane elek (wit...  Negative\n",
       "2        Maaf gak saingan sek, ig storymu kamerane elek  Negative\n",
       "3         Gasempet foto, soale kamerane elek koyo kowe   Negative\n",
       "4     Endak mas ikuw saking kamerane elek. Lek hujan...  Negative\n",
       "...                                                 ...       ...\n",
       "1924  Padahal.. apa yg tertulis sdh sesuai asas good...  Positive\n",
       "1925  Pemimpin yg jujur mengembalikan uang yg bukan ...  Positive\n",
       "1926  Pelanggan siji wes muni ae lambene, ora jowo s...  Negative\n",
       "1927  Rumah sakit opooo iki. Wes dokter lanange gak ...  Negative\n",
       "1928  Berani jadi gubernur, siap jadi gubernur... ka...  Positive\n",
       "\n",
       "[1929 rows x 2 columns]"
      ]
     },
     "execution_count": 4,
     "metadata": {},
     "output_type": "execute_result"
    }
   ],
   "source": [
    "df"
   ]
  },
  {
   "cell_type": "code",
   "execution_count": 5,
   "id": "2af30d97",
   "metadata": {},
   "outputs": [
    {
     "data": {
      "text/plain": [
       "Positive    649\n",
       "Negative    644\n",
       "Neutral     636\n",
       "Name: label, dtype: int64"
      ]
     },
     "execution_count": 5,
     "metadata": {},
     "output_type": "execute_result"
    }
   ],
   "source": [
    "df['label'].value_counts()"
   ]
  },
  {
   "cell_type": "code",
   "execution_count": 6,
   "id": "a75baeca",
   "metadata": {},
   "outputs": [],
   "source": [
    "df['clean_tweet'] = df['tweet'].apply(clean_data)\n",
    "df['clean_tweet'] = df['clean_tweet'].str.lower()"
   ]
  },
  {
   "cell_type": "code",
   "execution_count": 7,
   "id": "525d7e0f",
   "metadata": {},
   "outputs": [],
   "source": [
    "new_order = ['tweet', 'clean_tweet', 'label']\n",
    "df = df.reindex(columns=new_order)"
   ]
  },
  {
   "cell_type": "code",
   "execution_count": 8,
   "id": "19964ea9",
   "metadata": {},
   "outputs": [],
   "source": [
    "df.to_excel('../dataset/ije_sa/ije_sa_data.xlsx', index=False)"
   ]
  },
  {
   "cell_type": "code",
   "execution_count": 9,
   "id": "caf0ef0f",
   "metadata": {},
   "outputs": [
    {
     "data": {
      "text/html": [
       "<div>\n",
       "<style scoped>\n",
       "    .dataframe tbody tr th:only-of-type {\n",
       "        vertical-align: middle;\n",
       "    }\n",
       "\n",
       "    .dataframe tbody tr th {\n",
       "        vertical-align: top;\n",
       "    }\n",
       "\n",
       "    .dataframe thead th {\n",
       "        text-align: right;\n",
       "    }\n",
       "</style>\n",
       "<table border=\"1\" class=\"dataframe\">\n",
       "  <thead>\n",
       "    <tr style=\"text-align: right;\">\n",
       "      <th></th>\n",
       "      <th>tweet</th>\n",
       "      <th>clean_tweet</th>\n",
       "      <th>label</th>\n",
       "    </tr>\n",
       "  </thead>\n",
       "  <tbody>\n",
       "    <tr>\n",
       "      <th>0</th>\n",
       "      <td>foto jaman disik kamerane elek ddine meninggal...</td>\n",
       "      <td>foto jaman disik kamerane elek ddine meninggal...</td>\n",
       "      <td>Negative</td>\n",
       "    </tr>\n",
       "    <tr>\n",
       "      <th>1</th>\n",
       "      <td>happy wedding brother, sory kamerane elek (wit...</td>\n",
       "      <td>happy wedding brother sory kamerane elek with ...</td>\n",
       "      <td>Negative</td>\n",
       "    </tr>\n",
       "    <tr>\n",
       "      <th>2</th>\n",
       "      <td>Maaf gak saingan sek, ig storymu kamerane elek</td>\n",
       "      <td>maaf gak saingan sek ig storymu kamerane elek</td>\n",
       "      <td>Negative</td>\n",
       "    </tr>\n",
       "    <tr>\n",
       "      <th>3</th>\n",
       "      <td>Gasempet foto, soale kamerane elek koyo kowe</td>\n",
       "      <td>gasempet foto soale kamerane elek koyo kowe</td>\n",
       "      <td>Negative</td>\n",
       "    </tr>\n",
       "    <tr>\n",
       "      <th>4</th>\n",
       "      <td>Endak mas ikuw saking kamerane elek. Lek hujan...</td>\n",
       "      <td>endak mas ikuw saking kamerane elek lek hujan ...</td>\n",
       "      <td>Negative</td>\n",
       "    </tr>\n",
       "  </tbody>\n",
       "</table>\n",
       "</div>"
      ],
      "text/plain": [
       "                                               tweet  \\\n",
       "0  foto jaman disik kamerane elek ddine meninggal...   \n",
       "1  happy wedding brother, sory kamerane elek (wit...   \n",
       "2     Maaf gak saingan sek, ig storymu kamerane elek   \n",
       "3      Gasempet foto, soale kamerane elek koyo kowe    \n",
       "4  Endak mas ikuw saking kamerane elek. Lek hujan...   \n",
       "\n",
       "                                         clean_tweet     label  \n",
       "0  foto jaman disik kamerane elek ddine meninggal...  Negative  \n",
       "1  happy wedding brother sory kamerane elek with ...  Negative  \n",
       "2      maaf gak saingan sek ig storymu kamerane elek  Negative  \n",
       "3       gasempet foto soale kamerane elek koyo kowe   Negative  \n",
       "4  endak mas ikuw saking kamerane elek lek hujan ...  Negative  "
      ]
     },
     "execution_count": 9,
     "metadata": {},
     "output_type": "execute_result"
    }
   ],
   "source": [
    "get_data = pd.read_excel('../dataset/ije_sa/ije_sa_data.xlsx')\n",
    "get_data.head()"
   ]
  },
  {
   "cell_type": "code",
   "execution_count": null,
   "id": "44e087fb",
   "metadata": {},
   "outputs": [],
   "source": []
  }
 ],
 "metadata": {
  "kernelspec": {
   "display_name": "conda_env_2",
   "language": "python",
   "name": "conda_env_2"
  },
  "language_info": {
   "codemirror_mode": {
    "name": "ipython",
    "version": 3
   },
   "file_extension": ".py",
   "mimetype": "text/x-python",
   "name": "python",
   "nbconvert_exporter": "python",
   "pygments_lexer": "ipython3",
   "version": "3.9.16"
  }
 },
 "nbformat": 4,
 "nbformat_minor": 5
}
